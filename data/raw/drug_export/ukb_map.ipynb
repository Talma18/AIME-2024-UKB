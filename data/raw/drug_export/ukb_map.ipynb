{
 "cells": [
  {
   "cell_type": "code",
   "execution_count": null,
   "metadata": {},
   "outputs": [],
   "source": [
    "import pandas as pd"
   ]
  },
  {
   "cell_type": "code",
   "execution_count": null,
   "metadata": {},
   "outputs": [],
   "source": [
    "ukb = pd.read_csv('data/gp_scripts.txt', sep='\\t')\n",
    "ukb"
   ]
  },
  {
   "cell_type": "code",
   "execution_count": null,
   "metadata": {},
   "outputs": [],
   "source": [
    "presner = pd.read_json(\"out/result.json\")\n",
    "presner"
   ]
  },
  {
   "cell_type": "code",
   "execution_count": null,
   "metadata": {},
   "outputs": [],
   "source": [
    "presner = presner.loc[presner['preferred']]\n",
    "presner.shape"
   ]
  },
  {
   "cell_type": "code",
   "execution_count": null,
   "metadata": {},
   "outputs": [],
   "source": [
    "presner = presner.set_index(['TEXT_drug_name', 'TEXT_quantity'])\n",
    "ukb = ukb.set_index(['drug_name', 'quantity'])\n",
    "# rename multiindex\n",
    "ukb.index.names = ['TEXT_drug_name', 'TEXT_quantity']"
   ]
  },
  {
   "cell_type": "code",
   "execution_count": null,
   "metadata": {},
   "outputs": [],
   "source": [
    "df = ukb.join(presner, how='inner', lsuffix='_ukb', rsuffix='_presner')\n",
    "df"
   ]
  },
  {
   "cell_type": "code",
   "execution_count": null,
   "metadata": {},
   "outputs": [],
   "source": [
    "df.groupby('eid').agg({'data_provider': 'mean'}).value_counts()"
   ]
  },
  {
   "cell_type": "code",
   "execution_count": null,
   "metadata": {},
   "outputs": [],
   "source": [
    "# drop duplicates in index\n",
    "presner_u = presner[~presner.index.duplicated(keep='first')]\n",
    "presner_u.shape"
   ]
  },
  {
   "cell_type": "code",
   "execution_count": null,
   "metadata": {},
   "outputs": [],
   "source": [
    "\n",
    "dfu = ukb.join(presner_u, how='inner', lsuffix='_ukb', rsuffix='_presner')\n",
    "dfu"
   ]
  },
  {
   "cell_type": "code",
   "execution_count": null,
   "metadata": {},
   "outputs": [],
   "source": [
    "dfu.groupby('eid').agg({'data_provider': 'mean'}).value_counts()"
   ]
  },
  {
   "cell_type": "code",
   "execution_count": null,
   "metadata": {},
   "outputs": [],
   "source": [
    "dfu = dfu.reset_index().set_index('eid')\n",
    "dfu['issue_date'] = pd.to_datetime(dfu['issue_date'], format='%d/%m/%Y')\n",
    "dfu.to_pickle('out/ukb_presner.pkl')"
   ]
  },
  {
   "cell_type": "code",
   "execution_count": null,
   "metadata": {},
   "outputs": [],
   "source": [
    "dfu_min = dfu[['issue_date', 'data_provider', 'atc_code', 'class']]\n",
    "dfu_min.to_pickle('out/ukb_presner.minimal.pkl')\n",
    "dfu_min.to_csv('out/ukb_presner.minimal.csv')"
   ]
  }
 ],
 "metadata": {
  "kernelspec": {
   "display_name": "Python 3 (ipykernel)",
   "language": "python",
   "name": "python3"
  },
  "language_info": {
   "codemirror_mode": {
    "name": "ipython",
    "version": 3
   },
   "file_extension": ".py",
   "mimetype": "text/x-python",
   "name": "python",
   "nbconvert_exporter": "python",
   "pygments_lexer": "ipython3",
   "version": "3.10.12"
  }
 },
 "nbformat": 4,
 "nbformat_minor": 4
}
